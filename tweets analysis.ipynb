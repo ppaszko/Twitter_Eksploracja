{
 "cells": [
  {
   "cell_type": "code",
   "execution_count": 1,
   "outputs": [],
   "source": [
    "import datetime\n",
    "import pandas as pd\n",
    "from collections import Counter"
   ],
   "metadata": {
    "collapsed": false,
    "pycharm": {
     "name": "#%%\n"
    }
   }
  },
  {
   "cell_type": "code",
   "execution_count": 2,
   "outputs": [],
   "source": [
    "df=pd.read_json('new_parsed_tweets_closed.json')\n",
    "df2=pd.read_csv('parsed_new.csv', encoding='windows-1252')"
   ],
   "metadata": {
    "collapsed": false,
    "pycharm": {
     "name": "#%%\n"
    }
   }
  },
  {
   "cell_type": "code",
   "execution_count": 3,
   "outputs": [
    {
     "data": {
      "text/plain": "       1380230026939928576  Thu Apr 08 18:44:16 +0000 2021  \\\n0      1380230030429655046  Thu Apr 08 18:44:17 +0000 2021   \n1      1380230071210885122  Thu Apr 08 18:44:27 +0000 2021   \n2      1380230079645675525  Thu Apr 08 18:44:29 +0000 2021   \n3      1380230104983425030  Thu Apr 08 18:44:35 +0000 2021   \n4      1380230116622614529  Thu Apr 08 18:44:37 +0000 2021   \n...                    ...                             ...   \n23034  1381679923362996224  Mon Apr 12 18:45:38 +0000 2021   \n23035  1381679935153127425  Mon Apr 12 18:45:41 +0000 2021   \n23036  1381679951297048580  Mon Apr 12 18:45:45 +0000 2021   \n23037  1381679964777549826  Mon Apr 12 18:45:48 +0000 2021   \n23038  1381679990211637254  Mon Apr 12 18:45:54 +0000 2021   \n\n      @BharatBiotech @SerumInstIndia @ZydusUniverse How far is this true on the scale of 10?\\r\\n#information #knowit… https://t.co/qQSyd3vvbA  \\\n0      RT @gracielaocana: No quieren que sepamos la v...                                                                                        \n1      RT @ConnyRACING: Investigan la muerte de dos h...                                                                                        \n2      RT @nadiariccisc: #VACUNAS \\r\\nMandaron a arch...                                                                                        \n3      Van die mensen die zonder problemen #AstraZene...                                                                                        \n4      #gezondheidsraad stel professoren die niet van...                                                                                        \n...                                                  ...                                                                                        \n23034  RT @angelovalidiya: Honest doctor's opinion ab...                                                                                        \n23035  RT @boxie3Max: Vaccinated in style.\\r\\n@Dynast...                                                                                        \n23036  RT @org_scp: If you're willing to accept that ...                                                                                        \n23037  RT @LeslieMac: Any #Charlotte folks looking to...                                                                                        \n23038  RT @TheKeralaPolice: Get Vaccinated From Neare...                                                                                        \n\n      Unnamed: 3 Unnamed: 4 Unnamed: 5 Unnamed: 6 Unnamed: 7 Unnamed: 8  en  \\\n0            NaN        NaN        NaN        NaN        NaN        NaN  es   \n1            NaN        NaN        NaN        NaN        NaN        NaN  es   \n2            NaN        NaN        NaN        NaN        NaN        NaN  es   \n3            NaN        NaN        NaN        NaN        NaN        NaN  nl   \n4            NaN        NaN        NaN        NaN        NaN        NaN  nl   \n...          ...        ...        ...        ...        ...        ...  ..   \n23034        NaN        NaN        NaN        NaN        NaN        NaN  en   \n23035        NaN        NaN        NaN        NaN        NaN        NaN  en   \n23036        NaN        NaN        NaN        NaN        NaN        NaN  en   \n23037        NaN        NaN        NaN        NaN        NaN        NaN  en   \n23038        NaN        NaN        NaN        NaN        NaN        NaN  en   \n\n       ...            598150953                              Varma_Manthena  \\\n0      ...            193414434                                  ramon miño   \n1      ...            401623316                            Antonio Llinares   \n2      ...            193414434                                  ramon miño   \n3      ...  1100518955955953665                                   Spaarlamp   \n4      ...             48976978                                 HarrySiepel   \n...    ...                  ...                                         ...   \n23034  ...             74815670                                  Natalie B.   \n23035  ...  1379122831934492674                           We Got Vaccinated   \n23036  ...             60999529                                 lightworker   \n23037  ...             18106792  Beverle Lottimore... Feed your mind truth.   \n23038  ...            180723498                                      arooon   \n\n       Mechanical Engineer\\r\\n\\r\\nCAE ANALYST (Automobile Domain)  \\\n0                                                    NaN            \n1      Yo....yo soy yo, con mis defectos y mis virtud...            \n2                                                    NaN            \n3      Het komt zoals het komt en het gaat zoals het ...            \n4             Emmenaar die van golfen en hardlopen houdt            \n...                                                  ...            \n23034                                                NaN            \n23035  Sharing the exciting news of Ontarians getting...            \n23036                                                NaN            \n23037  Former Dir. and U.S. Representative for the Go...            \n23038       There comes a time when silence is betrayal.            \n\n                    Hyderabad, India  Sun Jun 03 06:11:23 +0000 2012    10  \\\n0                    lomas de zamora  Tue Sep 21 19:19:32 +0000 2010   118   \n1      villajoyosa Alicante (España)  Sun Oct 30 20:46:18 +0000 2011  1742   \n2                    lomas de zamora  Tue Sep 21 19:19:32 +0000 2010   118   \n3                       hutjeopdehei  Tue Feb 26 22:12:20 +0000 2019    70   \n4                              Emmen  Sat Jun 20 10:32:21 +0000 2009   171   \n...                              ...                             ...   ...   \n23034               Indianapolis, IN  Wed Sep 16 19:32:48 +0000 2009   496   \n23035                Ontario, Canada  Mon Apr 05 17:24:50 +0000 2021    65   \n23036                   planet earth  Tue Jul 28 19:44:06 +0000 2009   671   \n23037                  Washington DC  Sat Dec 13 23:08:24 +0000 2008   208   \n23038                         Madras  Fri Aug 20 09:20:22 +0000 2010   169   \n\n        607    946     866             ['information', 'knowit']  \n0       462   6426   11682                    ['VacunatorioVip']  \n1       228  55261  169487                       ['AstraZeneca']  \n2       462   6426   11682                           ['VACUNAS']  \n3       178   2260    1102            ['AstraZeneca', 'wappies']  \n4       128     17    3041    ['gezondheidsraad', 'AstraZeneca']  \n...     ...    ...     ...                                   ...  \n23034  2535   8409    8284               ['COVID19', 'vaccines']  \n23035   840    919     708  ['Pfizer', 'mRNA', 'ConquerCOVID19']  \n23036   968  45081   75268                  ['vaccinepassports']  \n23037   217  18832   10231         ['Charlotte', 'CovidVaccine']  \n23038   630  42495   14310      ['keralapolice', 'CovidVaccine']  \n\n[23039 rows x 22 columns]",
      "text/html": "<div>\n<style scoped>\n    .dataframe tbody tr th:only-of-type {\n        vertical-align: middle;\n    }\n\n    .dataframe tbody tr th {\n        vertical-align: top;\n    }\n\n    .dataframe thead th {\n        text-align: right;\n    }\n</style>\n<table border=\"1\" class=\"dataframe\">\n  <thead>\n    <tr style=\"text-align: right;\">\n      <th></th>\n      <th>1380230026939928576</th>\n      <th>Thu Apr 08 18:44:16 +0000 2021</th>\n      <th>@BharatBiotech @SerumInstIndia @ZydusUniverse How far is this true on the scale of 10?\\r\\n#information #knowit… https://t.co/qQSyd3vvbA</th>\n      <th>Unnamed: 3</th>\n      <th>Unnamed: 4</th>\n      <th>Unnamed: 5</th>\n      <th>Unnamed: 6</th>\n      <th>Unnamed: 7</th>\n      <th>Unnamed: 8</th>\n      <th>en</th>\n      <th>...</th>\n      <th>598150953</th>\n      <th>Varma_Manthena</th>\n      <th>Mechanical Engineer\\r\\n\\r\\nCAE ANALYST (Automobile Domain)</th>\n      <th>Hyderabad, India</th>\n      <th>Sun Jun 03 06:11:23 +0000 2012</th>\n      <th>10</th>\n      <th>607</th>\n      <th>946</th>\n      <th>866</th>\n      <th>['information', 'knowit']</th>\n    </tr>\n  </thead>\n  <tbody>\n    <tr>\n      <th>0</th>\n      <td>1380230030429655046</td>\n      <td>Thu Apr 08 18:44:17 +0000 2021</td>\n      <td>RT @gracielaocana: No quieren que sepamos la v...</td>\n      <td>NaN</td>\n      <td>NaN</td>\n      <td>NaN</td>\n      <td>NaN</td>\n      <td>NaN</td>\n      <td>NaN</td>\n      <td>es</td>\n      <td>...</td>\n      <td>193414434</td>\n      <td>ramon miño</td>\n      <td>NaN</td>\n      <td>lomas de zamora</td>\n      <td>Tue Sep 21 19:19:32 +0000 2010</td>\n      <td>118</td>\n      <td>462</td>\n      <td>6426</td>\n      <td>11682</td>\n      <td>['VacunatorioVip']</td>\n    </tr>\n    <tr>\n      <th>1</th>\n      <td>1380230071210885122</td>\n      <td>Thu Apr 08 18:44:27 +0000 2021</td>\n      <td>RT @ConnyRACING: Investigan la muerte de dos h...</td>\n      <td>NaN</td>\n      <td>NaN</td>\n      <td>NaN</td>\n      <td>NaN</td>\n      <td>NaN</td>\n      <td>NaN</td>\n      <td>es</td>\n      <td>...</td>\n      <td>401623316</td>\n      <td>Antonio Llinares</td>\n      <td>Yo....yo soy yo, con mis defectos y mis virtud...</td>\n      <td>villajoyosa Alicante (España)</td>\n      <td>Sun Oct 30 20:46:18 +0000 2011</td>\n      <td>1742</td>\n      <td>228</td>\n      <td>55261</td>\n      <td>169487</td>\n      <td>['AstraZeneca']</td>\n    </tr>\n    <tr>\n      <th>2</th>\n      <td>1380230079645675525</td>\n      <td>Thu Apr 08 18:44:29 +0000 2021</td>\n      <td>RT @nadiariccisc: #VACUNAS \\r\\nMandaron a arch...</td>\n      <td>NaN</td>\n      <td>NaN</td>\n      <td>NaN</td>\n      <td>NaN</td>\n      <td>NaN</td>\n      <td>NaN</td>\n      <td>es</td>\n      <td>...</td>\n      <td>193414434</td>\n      <td>ramon miño</td>\n      <td>NaN</td>\n      <td>lomas de zamora</td>\n      <td>Tue Sep 21 19:19:32 +0000 2010</td>\n      <td>118</td>\n      <td>462</td>\n      <td>6426</td>\n      <td>11682</td>\n      <td>['VACUNAS']</td>\n    </tr>\n    <tr>\n      <th>3</th>\n      <td>1380230104983425030</td>\n      <td>Thu Apr 08 18:44:35 +0000 2021</td>\n      <td>Van die mensen die zonder problemen #AstraZene...</td>\n      <td>NaN</td>\n      <td>NaN</td>\n      <td>NaN</td>\n      <td>NaN</td>\n      <td>NaN</td>\n      <td>NaN</td>\n      <td>nl</td>\n      <td>...</td>\n      <td>1100518955955953665</td>\n      <td>Spaarlamp</td>\n      <td>Het komt zoals het komt en het gaat zoals het ...</td>\n      <td>hutjeopdehei</td>\n      <td>Tue Feb 26 22:12:20 +0000 2019</td>\n      <td>70</td>\n      <td>178</td>\n      <td>2260</td>\n      <td>1102</td>\n      <td>['AstraZeneca', 'wappies']</td>\n    </tr>\n    <tr>\n      <th>4</th>\n      <td>1380230116622614529</td>\n      <td>Thu Apr 08 18:44:37 +0000 2021</td>\n      <td>#gezondheidsraad stel professoren die niet van...</td>\n      <td>NaN</td>\n      <td>NaN</td>\n      <td>NaN</td>\n      <td>NaN</td>\n      <td>NaN</td>\n      <td>NaN</td>\n      <td>nl</td>\n      <td>...</td>\n      <td>48976978</td>\n      <td>HarrySiepel</td>\n      <td>Emmenaar die van golfen en hardlopen houdt</td>\n      <td>Emmen</td>\n      <td>Sat Jun 20 10:32:21 +0000 2009</td>\n      <td>171</td>\n      <td>128</td>\n      <td>17</td>\n      <td>3041</td>\n      <td>['gezondheidsraad', 'AstraZeneca']</td>\n    </tr>\n    <tr>\n      <th>...</th>\n      <td>...</td>\n      <td>...</td>\n      <td>...</td>\n      <td>...</td>\n      <td>...</td>\n      <td>...</td>\n      <td>...</td>\n      <td>...</td>\n      <td>...</td>\n      <td>...</td>\n      <td>...</td>\n      <td>...</td>\n      <td>...</td>\n      <td>...</td>\n      <td>...</td>\n      <td>...</td>\n      <td>...</td>\n      <td>...</td>\n      <td>...</td>\n      <td>...</td>\n      <td>...</td>\n    </tr>\n    <tr>\n      <th>23034</th>\n      <td>1381679923362996224</td>\n      <td>Mon Apr 12 18:45:38 +0000 2021</td>\n      <td>RT @angelovalidiya: Honest doctor's opinion ab...</td>\n      <td>NaN</td>\n      <td>NaN</td>\n      <td>NaN</td>\n      <td>NaN</td>\n      <td>NaN</td>\n      <td>NaN</td>\n      <td>en</td>\n      <td>...</td>\n      <td>74815670</td>\n      <td>Natalie B.</td>\n      <td>NaN</td>\n      <td>Indianapolis, IN</td>\n      <td>Wed Sep 16 19:32:48 +0000 2009</td>\n      <td>496</td>\n      <td>2535</td>\n      <td>8409</td>\n      <td>8284</td>\n      <td>['COVID19', 'vaccines']</td>\n    </tr>\n    <tr>\n      <th>23035</th>\n      <td>1381679935153127425</td>\n      <td>Mon Apr 12 18:45:41 +0000 2021</td>\n      <td>RT @boxie3Max: Vaccinated in style.\\r\\n@Dynast...</td>\n      <td>NaN</td>\n      <td>NaN</td>\n      <td>NaN</td>\n      <td>NaN</td>\n      <td>NaN</td>\n      <td>NaN</td>\n      <td>en</td>\n      <td>...</td>\n      <td>1379122831934492674</td>\n      <td>We Got Vaccinated</td>\n      <td>Sharing the exciting news of Ontarians getting...</td>\n      <td>Ontario, Canada</td>\n      <td>Mon Apr 05 17:24:50 +0000 2021</td>\n      <td>65</td>\n      <td>840</td>\n      <td>919</td>\n      <td>708</td>\n      <td>['Pfizer', 'mRNA', 'ConquerCOVID19']</td>\n    </tr>\n    <tr>\n      <th>23036</th>\n      <td>1381679951297048580</td>\n      <td>Mon Apr 12 18:45:45 +0000 2021</td>\n      <td>RT @org_scp: If you're willing to accept that ...</td>\n      <td>NaN</td>\n      <td>NaN</td>\n      <td>NaN</td>\n      <td>NaN</td>\n      <td>NaN</td>\n      <td>NaN</td>\n      <td>en</td>\n      <td>...</td>\n      <td>60999529</td>\n      <td>lightworker</td>\n      <td>NaN</td>\n      <td>planet earth</td>\n      <td>Tue Jul 28 19:44:06 +0000 2009</td>\n      <td>671</td>\n      <td>968</td>\n      <td>45081</td>\n      <td>75268</td>\n      <td>['vaccinepassports']</td>\n    </tr>\n    <tr>\n      <th>23037</th>\n      <td>1381679964777549826</td>\n      <td>Mon Apr 12 18:45:48 +0000 2021</td>\n      <td>RT @LeslieMac: Any #Charlotte folks looking to...</td>\n      <td>NaN</td>\n      <td>NaN</td>\n      <td>NaN</td>\n      <td>NaN</td>\n      <td>NaN</td>\n      <td>NaN</td>\n      <td>en</td>\n      <td>...</td>\n      <td>18106792</td>\n      <td>Beverle Lottimore... Feed your mind truth.</td>\n      <td>Former Dir. and U.S. Representative for the Go...</td>\n      <td>Washington DC</td>\n      <td>Sat Dec 13 23:08:24 +0000 2008</td>\n      <td>208</td>\n      <td>217</td>\n      <td>18832</td>\n      <td>10231</td>\n      <td>['Charlotte', 'CovidVaccine']</td>\n    </tr>\n    <tr>\n      <th>23038</th>\n      <td>1381679990211637254</td>\n      <td>Mon Apr 12 18:45:54 +0000 2021</td>\n      <td>RT @TheKeralaPolice: Get Vaccinated From Neare...</td>\n      <td>NaN</td>\n      <td>NaN</td>\n      <td>NaN</td>\n      <td>NaN</td>\n      <td>NaN</td>\n      <td>NaN</td>\n      <td>en</td>\n      <td>...</td>\n      <td>180723498</td>\n      <td>arooon</td>\n      <td>There comes a time when silence is betrayal.</td>\n      <td>Madras</td>\n      <td>Fri Aug 20 09:20:22 +0000 2010</td>\n      <td>169</td>\n      <td>630</td>\n      <td>42495</td>\n      <td>14310</td>\n      <td>['keralapolice', 'CovidVaccine']</td>\n    </tr>\n  </tbody>\n</table>\n<p>23039 rows × 22 columns</p>\n</div>"
     },
     "execution_count": 3,
     "metadata": {},
     "output_type": "execute_result"
    }
   ],
   "source": [
    "df2\n"
   ],
   "metadata": {
    "collapsed": false,
    "pycharm": {
     "name": "#%%\n"
    }
   }
  },
  {
   "cell_type": "code",
   "execution_count": 4,
   "outputs": [
    {
     "data": {
      "text/plain": "10302"
     },
     "execution_count": 4,
     "metadata": {},
     "output_type": "execute_result"
    }
   ],
   "source": [
    "df['geo'].isna().sum()"
   ],
   "metadata": {
    "collapsed": false,
    "pycharm": {
     "name": "#%%\n"
    }
   }
  },
  {
   "cell_type": "code",
   "execution_count": 5,
   "outputs": [
    {
     "data": {
      "text/plain": "Index(['id', 'created_at', 'text', 'geo', 'coordinates', 'place_name',\n       'place_full_name', 'place_country', 'place_coordinates', 'lang',\n       'retweet_count', 'favorite_count', 'user_id', 'user_name',\n       'user_description', 'user_location', 'user_created_at',\n       'user_followers_count', 'user_friends_count', 'user_favourites_count',\n       'user_statuses_count', 'hashtags_list'],\n      dtype='object')"
     },
     "execution_count": 5,
     "metadata": {},
     "output_type": "execute_result"
    }
   ],
   "source": [
    "df.columns\n"
   ],
   "metadata": {
    "collapsed": false,
    "pycharm": {
     "name": "#%%\n"
    }
   }
  },
  {
   "cell_type": "code",
   "execution_count": 6,
   "outputs": [
    {
     "name": "stdout",
     "output_type": "stream",
     "text": [
      "<class 'pandas.core.frame.DataFrame'>\n",
      "RangeIndex: 10315 entries, 0 to 10314\n",
      "Data columns (total 22 columns):\n",
      " #   Column                 Non-Null Count  Dtype              \n",
      "---  ------                 --------------  -----              \n",
      " 0   id                     10315 non-null  int64              \n",
      " 1   created_at             10315 non-null  datetime64[ns, UTC]\n",
      " 2   text                   10315 non-null  object             \n",
      " 3   geo                    13 non-null     object             \n",
      " 4   coordinates            13 non-null     object             \n",
      " 5   place_name             176 non-null    object             \n",
      " 6   place_full_name        176 non-null    object             \n",
      " 7   place_country          176 non-null    object             \n",
      " 8   place_coordinates      176 non-null    object             \n",
      " 9   lang                   10315 non-null  object             \n",
      " 10  retweet_count          10315 non-null  int64              \n",
      " 11  favorite_count         10315 non-null  int64              \n",
      " 12  user_id                10315 non-null  int64              \n",
      " 13  user_name              10315 non-null  object             \n",
      " 14  user_description       10315 non-null  object             \n",
      " 15  user_location          10315 non-null  object             \n",
      " 16  user_created_at        10315 non-null  datetime64[ns, UTC]\n",
      " 17  user_followers_count   10315 non-null  int64              \n",
      " 18  user_friends_count     10315 non-null  int64              \n",
      " 19  user_favourites_count  10315 non-null  int64              \n",
      " 20  user_statuses_count    10315 non-null  int64              \n",
      " 21  hashtags_list          10315 non-null  object             \n",
      "dtypes: datetime64[ns, UTC](2), int64(8), object(12)\n",
      "memory usage: 1.7+ MB\n"
     ]
    }
   ],
   "source": [
    "df.info()"
   ],
   "metadata": {
    "collapsed": false,
    "pycharm": {
     "name": "#%%\n"
    }
   }
  },
  {
   "cell_type": "code",
   "execution_count": 7,
   "outputs": [
    {
     "data": {
      "text/plain": "id                       10315\ncreated_at               10315\ntext                     10315\ngeo                         13\ncoordinates                 13\nplace_name                 176\nplace_full_name            176\nplace_country              176\nplace_coordinates          176\nlang                     10315\nretweet_count            10315\nfavorite_count           10315\nuser_id                  10315\nuser_name                10315\nuser_description         10315\nuser_location            10315\nuser_created_at          10315\nuser_followers_count     10315\nuser_friends_count       10315\nuser_favourites_count    10315\nuser_statuses_count      10315\nhashtags_list            10315\ndtype: int64"
     },
     "execution_count": 7,
     "metadata": {},
     "output_type": "execute_result"
    }
   ],
   "source": [
    "df.count()\n"
   ],
   "metadata": {
    "collapsed": false,
    "pycharm": {
     "name": "#%%\n"
    }
   }
  },
  {
   "cell_type": "code",
   "execution_count": 8,
   "outputs": [
    {
     "data": {
      "text/plain": "['06Abr',\n '10HeuresMidi',\n '1andDone',\n '1andDone',\n '1andDone',\n '1andDone',\n '1andDone',\n '1andDone',\n '1andDone',\n '1stDose',\n '1stDose',\n '1stshot',\n '2022entry',\n '20Mar',\n '20Mar',\n '20Mar',\n '20Mar',\n '20Mar',\n '20Mar',\n '2ndvaccine',\n '4M',\n '4taTransformacion',\n '4taTransformacion',\n '5Abr',\n '5Abr',\n '5Abr',\n '5Qs',\n '5aprile',\n '60Minutes',\n '6Abr',\n '6Abr',\n '6Abr',\n '6Abr',\n '6Abr',\n '6Abr',\n '6Abr',\n '6Abr',\n '6Abr',\n '6Abr',\n '6Abr',\n '6Abr',\n '6Abril',\n '6Abril',\n '6Aprile',\n '6Aprile',\n '6Aprile',\n '6Aprile',\n '6aprile',\n '6aprile',\n '6aprile',\n '6aprile',\n '6aprile',\n '6deAbril',\n '8noticiaszamora',\n '8noticiaszamora',\n '9วิชาสามัญ64',\n 'A',\n 'ABC730',\n 'ADN',\n 'AED',\n 'AI',\n 'AIFA',\n 'AL',\n 'ALERTA',\n 'ALERTA',\n 'AMLO',\n 'AMLO',\n 'AMLOvers',\n 'AMxInforma',\n 'ANSA',\n 'ANSM',\n 'APrimeraHora',\n 'ARMYSelcaDay',\n 'ARRAYNow',\n 'ARRRGH',\n 'ARRRGH',\n 'ARS',\n 'ASL',\n 'ASTRAZENECA',\n 'ASTRAZENECA',\n 'ATENCION',\n 'ATENCION',\n 'ATENCION',\n 'ATENCION',\n 'ATENCION',\n 'ATENCION',\n 'AVISO',\n 'AVISO',\n 'AZ',\n 'AZ',\n 'AZ',\n 'AZ',\n 'AZPOR',\n 'AZPOR',\n 'Abbott',\n 'Abc730',\n 'Abc730',\n 'Abdala',\n 'AbhiArmy',\n 'AbhinavShukla',\n 'AbhinavShukla',\n 'AbhinavShukla',\n 'AbhinavShukla',\n 'Abitur',\n 'Abitur',\n 'Actualidad',\n 'AdarPoonawalla',\n 'AdarPoonawalla',\n 'AdarPoonawalla',\n 'AdarPoonawalla',\n 'AdarPoonawalla',\n 'AdarPoonawalla',\n 'AdarPoonawalla',\n 'AdarPoonawalla',\n 'AdarPoonawalla',\n 'Adarpoonawal',\n 'AdderaD3',\n 'AdultoMayores',\n 'AdultosMayores',\n 'AdultosMayores',\n 'Advisory',\n 'Advisory',\n 'Advisory',\n 'Advisory',\n 'Advisory',\n 'Advisory',\n 'Advisory',\n 'Africa',\n 'Africa',\n 'Africa',\n 'Africa',\n 'Africa',\n 'AgenciaEuropeadelMedicamento',\n 'Agenzia',\n 'Aifa',\n 'AirForce',\n 'AlMomento',\n 'AlMomento',\n 'AlMomento',\n 'AlejandraPani',\n 'Alemania',\n 'Alemania',\n 'AllAdults',\n 'AllGood',\n 'AllOfIT',\n 'AllStarGame',\n 'Allergy',\n 'AlluArjunBirthdayCDP',\n 'AlluArjunBirthdayCDP',\n 'AlluArjunBirthdayCDP',\n 'AlluArjunBirthdayCDP',\n 'AlmostThere',\n 'Alsace',\n 'Amazon',\n 'America',\n 'America',\n 'American',\n 'American',\n 'Americans',\n 'Americans',\n 'AméricaLatina',\n 'Ancaster',\n 'Andalucía',\n 'AndavacForma',\n 'Animals',\n 'AnneArundel',\n 'AnneArundel',\n 'AnneArundel',\n 'AnnieLennox',\n 'Anonymous',\n 'Anonymous',\n 'Anonymous',\n 'Anonymous',\n 'Anonymous',\n 'Anonymous',\n 'Ant1news',\n 'AnthonyFauci',\n 'Anti_Farmer_RSS',\n 'Antibodies',\n 'Antifa',\n 'Antiques',\n 'Antiques',\n 'Antivax',\n 'Anvisa',\n 'ApexLegends',\n 'Appeal',\n 'April',\n 'April',\n 'April',\n 'ApureEsNuestro',\n 'ApureEsNuestro',\n 'Arizona',\n 'ArmyCOVIDFight',\n 'Aspirin',\n 'Aspirin',\n 'Aspirin',\n 'Aspirin',\n 'Aspirin',\n 'Aspirin',\n 'AsstCremona',\n 'AsteaZeneca',\n 'AsteaZeneca',\n 'Asthma',\n 'AstraZenaca',\n 'AstraZenaca',\n 'AstraZenaca',\n 'AstraZenaca',\n 'AstraZenaca',\n 'AstraZenaca',\n 'AstraZenaca',\n 'AstraZenaca',\n 'AstraZenaca',\n 'AstraZenaca',\n 'AstraZenaca',\n 'AstraZenaca',\n 'AstraZenaca',\n 'AstraZenaca',\n 'AstraZenaca',\n 'AstraZenaca',\n 'AstraZenaca',\n 'AstraZenaca',\n 'AstraZenaca',\n 'AstraZenaca',\n 'AstraZenaca',\n 'AstraZenaca',\n 'AstraZenaca',\n 'AstraZenaca',\n 'AstraZeneca',\n 'AstraZeneca',\n 'AstraZeneca',\n 'AstraZeneca',\n 'AstraZeneca',\n 'AstraZeneca',\n 'AstraZeneca',\n 'AstraZeneca',\n 'AstraZeneca',\n 'AstraZeneca',\n 'AstraZeneca',\n 'AstraZeneca',\n 'AstraZeneca',\n 'AstraZeneca',\n 'AstraZeneca',\n 'AstraZeneca',\n 'AstraZeneca',\n 'AstraZeneca',\n 'AstraZeneca',\n 'AstraZeneca',\n 'AstraZeneca',\n 'AstraZeneca',\n 'AstraZeneca',\n 'AstraZeneca',\n 'AstraZeneca',\n 'AstraZeneca',\n 'AstraZeneca',\n 'AstraZeneca',\n 'AstraZeneca',\n 'AstraZeneca',\n 'AstraZeneca',\n 'AstraZeneca',\n 'AstraZeneca',\n 'AstraZeneca',\n 'AstraZeneca',\n 'AstraZeneca',\n 'AstraZeneca',\n 'AstraZeneca',\n 'AstraZeneca',\n 'AstraZeneca',\n 'AstraZeneca',\n 'AstraZeneca',\n 'AstraZeneca',\n 'AstraZeneca',\n 'AstraZeneca',\n 'AstraZeneca',\n 'AstraZeneca',\n 'AstraZeneca',\n 'AstraZeneca',\n 'AstraZeneca',\n 'AstraZeneca',\n 'AstraZeneca',\n 'AstraZeneca',\n 'AstraZeneca',\n 'AstraZeneca',\n 'AstraZeneca',\n 'AstraZeneca',\n 'AstraZeneca',\n 'AstraZeneca',\n 'AstraZeneca',\n 'AstraZeneca',\n 'AstraZeneca',\n 'AstraZeneca',\n 'AstraZeneca',\n 'AstraZeneca',\n 'AstraZeneca',\n 'AstraZeneca',\n 'AstraZeneca',\n 'AstraZeneca',\n 'AstraZeneca',\n 'AstraZeneca',\n 'AstraZeneca',\n 'AstraZeneca',\n 'AstraZeneca',\n 'AstraZeneca',\n 'AstraZeneca',\n 'AstraZeneca',\n 'AstraZeneca',\n 'AstraZeneca',\n 'AstraZeneca',\n 'AstraZeneca',\n 'AstraZeneca',\n 'AstraZeneca',\n 'AstraZeneca',\n 'AstraZeneca',\n 'AstraZeneca',\n 'AstraZeneca',\n 'AstraZeneca',\n 'AstraZeneca',\n 'AstraZeneca',\n 'AstraZeneca',\n 'AstraZeneca',\n 'AstraZeneca',\n 'AstraZeneca',\n 'AstraZeneca',\n 'AstraZeneca',\n 'AstraZeneca',\n 'AstraZeneca',\n 'AstraZeneca',\n 'AstraZeneca',\n 'AstraZeneca',\n 'AstraZeneca',\n 'AstraZeneca',\n 'AstraZeneca',\n 'AstraZeneca',\n 'AstraZeneca',\n 'AstraZeneca',\n 'AstraZeneca',\n 'AstraZeneca',\n 'AstraZeneca',\n 'AstraZeneca',\n 'AstraZeneca',\n 'AstraZeneca',\n 'AstraZeneca',\n 'AstraZeneca',\n 'AstraZeneca',\n 'AstraZeneca',\n 'AstraZeneca',\n 'AstraZeneca',\n 'AstraZeneca',\n 'AstraZeneca',\n 'AstraZeneca',\n 'AstraZeneca',\n 'AstraZeneca',\n 'AstraZeneca',\n 'AstraZeneca',\n 'AstraZeneca',\n 'AstraZeneca',\n 'AstraZeneca',\n 'AstraZeneca',\n 'AstraZeneca',\n 'AstraZeneca',\n 'AstraZeneca',\n 'AstraZeneca',\n 'AstraZeneca',\n 'AstraZeneca',\n 'AstraZeneca',\n 'AstraZeneca',\n 'AstraZeneca',\n 'AstraZeneca',\n 'AstraZeneca',\n 'AstraZeneca',\n 'AstraZeneca',\n 'AstraZeneca',\n 'AstraZeneca',\n 'AstraZeneca',\n 'AstraZeneca',\n 'AstraZeneca',\n 'AstraZeneca',\n 'AstraZeneca',\n 'AstraZeneca',\n 'AstraZeneca',\n 'AstraZeneca',\n 'AstraZeneca',\n 'AstraZeneca',\n 'AstraZeneca',\n 'AstraZeneca',\n 'AstraZeneca',\n 'AstraZeneca',\n 'AstraZeneca',\n 'AstraZeneca',\n 'AstraZeneca',\n 'AstraZeneca',\n 'AstraZeneca',\n 'AstraZeneca',\n 'AstraZeneca',\n 'AstraZeneca',\n 'AstraZeneca',\n 'AstraZeneca',\n 'AstraZeneca',\n 'AstraZeneca',\n 'AstraZeneca',\n 'AstraZeneca',\n 'AstraZeneca',\n 'AstraZeneca',\n 'AstraZeneca',\n 'AstraZeneca',\n 'AstraZeneca',\n 'AstraZeneca',\n 'AstraZeneca',\n 'AstraZeneca',\n 'AstraZeneca',\n 'AstraZeneca',\n 'AstraZeneca',\n 'AstraZeneca',\n 'AstraZeneca',\n 'AstraZeneca',\n 'AstraZeneca',\n 'AstraZeneca',\n 'AstraZeneca',\n 'AstraZeneca',\n 'AstraZeneca',\n 'AstraZeneca',\n 'AstraZeneca',\n 'AstraZeneca',\n 'AstraZeneca',\n 'AstraZeneca',\n 'AstraZeneca',\n 'AstraZeneca',\n 'AstraZeneca',\n 'AstraZeneca',\n 'AstraZeneca',\n 'AstraZeneca',\n 'AstraZeneca',\n 'AstraZeneca',\n 'AstraZeneca',\n 'AstraZeneca',\n 'AstraZeneca',\n 'AstraZeneca',\n 'AstraZeneca',\n 'AstraZeneca',\n 'AstraZeneca',\n 'AstraZeneca',\n 'AstraZeneca',\n 'AstraZeneca',\n 'AstraZeneca',\n 'AstraZeneca',\n 'AstraZeneca',\n 'AstraZeneca',\n 'AstraZeneca',\n 'AstraZeneca',\n 'AstraZeneca',\n 'AstraZeneca',\n 'AstraZeneca',\n 'AstraZeneca',\n 'AstraZeneca',\n 'AstraZeneca',\n 'AstraZeneca',\n 'AstraZeneca',\n 'AstraZeneca',\n 'AstraZeneca',\n 'AstraZeneca',\n 'AstraZeneca',\n 'AstraZeneca',\n 'AstraZeneca',\n 'AstraZeneca',\n 'AstraZeneca',\n 'AstraZeneca',\n 'AstraZeneca',\n 'AstraZeneca',\n 'AstraZeneca',\n 'AstraZeneca',\n 'AstraZeneca',\n 'AstraZeneca',\n 'AstraZeneca',\n 'AstraZeneca',\n 'AstraZeneca',\n 'AstraZeneca',\n 'AstraZeneca',\n 'AstraZeneca',\n 'AstraZeneca',\n 'AstraZeneca',\n 'AstraZeneca',\n 'AstraZeneca',\n 'AstraZeneca',\n 'AstraZeneca',\n 'AstraZeneca',\n 'AstraZeneca',\n 'AstraZeneca',\n 'AstraZeneca',\n 'AstraZeneca',\n 'AstraZeneca',\n 'AstraZeneca',\n 'AstraZeneca',\n 'AstraZeneca',\n 'AstraZeneca',\n 'AstraZeneca',\n 'AstraZeneca',\n 'AstraZeneca',\n 'AstraZeneca',\n 'AstraZeneca',\n 'AstraZeneca',\n 'AstraZeneca',\n 'AstraZeneca',\n 'AstraZeneca',\n 'AstraZeneca',\n 'AstraZeneca',\n 'AstraZeneca',\n 'AstraZeneca',\n 'AstraZeneca',\n 'AstraZeneca',\n 'AstraZeneca',\n 'AstraZeneca',\n 'AstraZeneca',\n 'AstraZeneca',\n 'AstraZeneca',\n 'AstraZeneca',\n 'AstraZeneca',\n 'AstraZeneca',\n 'AstraZeneca',\n 'AstraZeneca',\n 'AstraZeneca',\n 'AstraZeneca',\n 'AstraZeneca',\n 'AstraZeneca',\n 'AstraZeneca',\n 'AstraZeneca',\n 'AstraZeneca',\n 'AstraZeneca',\n 'AstraZeneca',\n 'AstraZeneca',\n 'AstraZeneca',\n 'AstraZeneca',\n 'AstraZeneca',\n 'AstraZeneca',\n 'AstraZeneca',\n 'AstraZeneca',\n 'AstraZeneca',\n 'AstraZeneca',\n 'AstraZeneca',\n 'AstraZeneca',\n 'AstraZeneca',\n 'AstraZeneca',\n 'AstraZeneca',\n 'AstraZeneca',\n 'AstraZeneca',\n 'AstraZeneca',\n 'AstraZeneca',\n 'AstraZeneca',\n 'AstraZeneca',\n 'AstraZeneca',\n 'AstraZeneca',\n 'AstraZeneca',\n 'AstraZeneca',\n 'AstraZeneca',\n 'AstraZeneca',\n 'AstraZeneca',\n 'AstraZeneca',\n 'AstraZeneca',\n 'AstraZeneca',\n 'AstraZeneca',\n 'AstraZeneca',\n 'AstraZeneca',\n 'AstraZeneca',\n 'AstraZeneca',\n 'AstraZeneca',\n 'AstraZeneca',\n 'AstraZeneca',\n 'AstraZeneca',\n 'AstraZeneca',\n 'AstraZeneca',\n 'AstraZeneca',\n 'AstraZeneca',\n 'AstraZeneca',\n 'AstraZeneca',\n 'AstraZeneca',\n 'AstraZeneca',\n 'AstraZeneca',\n 'AstraZeneca',\n 'AstraZeneca',\n 'AstraZeneca',\n 'AstraZeneca',\n 'AstraZeneca',\n 'AstraZeneca',\n 'AstraZeneca',\n 'AstraZeneca',\n 'AstraZeneca',\n 'AstraZeneca',\n 'AstraZeneca',\n 'AstraZeneca',\n 'AstraZeneca',\n 'AstraZeneca',\n 'AstraZeneca',\n 'AstraZeneca',\n 'AstraZeneca',\n 'AstraZeneca',\n 'AstraZeneca',\n 'AstraZeneca',\n 'AstraZeneca',\n 'AstraZeneca',\n 'AstraZeneca',\n 'AstraZeneca',\n 'AstraZeneca',\n 'AstraZeneca',\n 'AstraZeneca',\n 'AstraZeneca',\n 'AstraZeneca',\n 'AstraZeneca',\n 'AstraZeneca',\n 'AstraZeneca',\n 'AstraZeneca',\n 'AstraZeneca',\n 'AstraZeneca',\n 'AstraZeneca',\n 'AstraZeneca',\n 'AstraZeneca',\n 'AstraZeneca',\n 'AstraZeneca',\n 'AstraZeneca',\n 'AstraZeneca',\n 'AstraZeneca',\n 'AstraZeneca',\n 'AstraZeneca',\n 'AstraZeneca',\n 'AstraZeneca',\n 'AstraZeneca',\n 'AstraZeneca',\n 'AstraZeneca',\n 'AstraZeneca',\n 'AstraZeneca',\n 'AstraZeneca',\n 'AstraZeneca',\n 'AstraZeneca',\n 'AstraZeneca',\n 'AstraZeneca',\n 'AstraZeneca',\n 'AstraZeneca',\n 'AstraZeneca',\n 'AstraZeneca',\n 'AstraZeneca',\n 'AstraZeneca',\n 'AstraZeneca',\n 'AstraZeneca',\n 'AstraZeneca',\n 'AstraZeneca',\n 'AstraZeneca',\n 'AstraZeneca',\n 'AstraZeneca',\n 'AstraZeneca',\n 'AstraZeneca',\n 'AstraZeneca',\n 'AstraZeneca',\n 'AstraZeneca',\n 'AstraZeneca',\n 'AstraZeneca',\n 'AstraZeneca',\n 'AstraZeneca',\n 'AstraZeneca',\n 'AstraZeneca',\n 'AstraZeneca',\n 'AstraZeneca',\n 'AstraZeneca',\n 'AstraZeneca',\n 'AstraZeneca',\n 'AstraZeneca',\n 'AstraZeneca',\n 'AstraZeneca',\n 'AstraZeneca',\n 'AstraZeneca',\n 'AstraZeneca',\n 'AstraZeneca',\n 'AstraZeneca',\n 'AstraZeneca',\n 'AstraZeneca',\n 'AstraZeneca',\n 'AstraZeneca',\n 'AstraZeneca',\n 'AstraZeneca',\n 'AstraZeneca',\n 'AstraZeneca',\n 'AstraZeneca',\n 'AstraZeneca',\n 'AstraZeneca',\n 'AstraZeneca',\n 'AstraZeneca',\n 'AstraZeneca',\n 'AstraZeneca',\n 'AstraZeneca',\n 'AstraZeneca',\n 'AstraZeneca',\n 'AstraZeneca',\n 'AstraZeneca',\n 'AstraZeneca',\n 'AstraZeneca',\n 'AstraZeneca',\n 'AstraZeneca',\n 'AstraZeneca',\n 'AstraZeneca',\n 'AstraZeneca',\n 'AstraZeneca',\n 'AstraZeneca',\n 'AstraZeneca',\n 'AstraZeneca',\n 'AstraZeneca',\n 'AstraZeneca',\n 'AstraZeneca',\n 'AstraZeneca',\n 'AstraZeneca',\n 'AstraZeneca',\n 'AstraZeneca',\n 'AstraZeneca',\n 'AstraZeneca',\n 'AstraZeneca',\n 'AstraZeneca',\n 'AstraZeneca',\n 'AstraZeneca',\n 'AstraZeneca',\n 'AstraZeneca',\n 'AstraZeneca',\n 'AstraZeneca',\n 'AstraZeneca',\n 'AstraZeneca',\n 'AstraZeneca',\n 'AstraZeneca',\n 'AstraZeneca',\n 'AstraZeneca',\n 'AstraZeneca',\n 'AstraZeneca',\n 'AstraZeneca',\n 'AstraZeneca',\n 'AstraZeneca',\n 'AstraZeneca',\n 'AstraZeneca',\n 'AstraZeneca',\n 'AstraZeneca',\n 'AstraZeneca',\n 'AstraZeneca',\n 'AstraZeneca',\n 'AstraZeneca',\n 'AstraZeneca',\n 'AstraZeneca',\n 'AstraZeneca',\n 'AstraZeneca',\n 'AstraZeneca',\n 'AstraZeneca',\n 'AstraZeneca',\n 'AstraZeneca',\n 'AstraZeneca',\n 'AstraZeneca',\n 'AstraZeneca',\n 'AstraZeneca',\n 'AstraZeneca',\n 'AstraZeneca',\n 'AstraZeneca',\n 'AstraZeneca',\n 'AstraZeneca',\n 'AstraZeneca',\n 'AstraZeneca',\n 'AstraZeneca',\n 'AstraZeneca',\n 'AstraZeneca',\n 'AstraZeneca',\n 'AstraZeneca',\n 'AstraZeneca',\n 'AstraZeneca',\n 'AstraZeneca',\n 'AstraZeneca',\n 'AstraZeneca',\n 'AstraZeneca',\n 'AstraZeneca',\n 'AstraZeneca',\n 'AstraZeneca',\n 'AstraZeneca',\n 'AstraZeneca',\n 'AstraZeneca',\n 'AstraZeneca',\n 'AstraZeneca',\n 'AstraZeneca',\n 'AstraZeneca',\n 'AstraZeneca',\n 'AstraZeneca',\n 'AstraZeneca',\n 'AstraZeneca',\n 'AstraZeneca',\n 'AstraZeneca',\n 'AstraZeneca',\n 'AstraZeneca',\n 'AstraZeneca',\n 'AstraZeneca',\n 'AstraZeneca',\n 'AstraZeneca',\n 'AstraZeneca',\n 'AstraZeneca',\n 'AstraZeneca',\n 'AstraZeneca',\n 'AstraZeneca',\n 'AstraZeneca',\n 'AstraZeneca',\n 'AstraZeneca',\n 'AstraZeneca',\n 'AstraZeneca',\n 'AstraZeneca',\n 'AstraZeneca',\n 'AstraZeneca',\n 'AstraZeneca',\n 'AstraZeneca',\n 'AstraZeneca',\n 'AstraZeneca',\n 'AstraZeneca',\n 'AstraZeneca',\n 'AstraZeneca',\n 'AstraZeneca',\n 'AstraZeneca',\n 'AstraZeneca',\n 'AstraZeneca',\n 'AstraZeneca',\n 'AstraZeneca',\n 'AstraZeneca',\n 'AstraZeneca',\n 'AstraZeneca',\n 'AstraZeneca',\n 'AstraZeneca',\n 'AstraZeneca',\n 'AstraZeneca',\n 'AstraZeneca',\n 'AstraZeneca',\n 'AstraZeneca',\n 'AstraZeneca',\n 'AstraZeneca',\n 'AstraZeneca',\n 'AstraZeneca',\n 'AstraZeneca',\n 'AstraZeneca',\n 'AstraZeneca',\n 'AstraZeneca',\n 'AstraZeneca',\n 'AstraZeneca',\n 'AstraZeneca',\n 'AstraZeneca',\n 'AstraZeneca',\n 'AstraZeneca',\n 'AstraZeneca',\n 'AstraZeneca',\n 'AstraZeneca',\n 'AstraZeneca',\n 'AstraZeneca',\n 'AstraZeneca',\n 'AstraZeneca',\n 'AstraZeneca',\n 'AstraZeneca',\n 'AstraZeneca',\n 'AstraZeneca',\n 'AstraZeneca',\n 'AstraZeneca',\n 'AstraZeneca',\n 'AstraZeneca',\n 'AstraZeneca',\n 'AstraZeneca',\n 'AstraZeneca',\n 'AstraZeneca',\n 'AstraZeneca',\n 'AstraZeneca',\n 'AstraZeneca',\n 'AstraZeneca',\n 'AstraZeneca',\n 'AstraZeneca',\n 'AstraZeneca',\n 'AstraZeneca',\n 'AstraZeneca',\n 'AstraZeneca',\n 'AstraZeneca',\n 'AstraZeneca',\n 'AstraZeneca',\n 'AstraZeneca',\n 'AstraZeneca',\n 'AstraZeneca',\n 'AstraZeneca',\n 'AstraZeneca',\n 'AstraZeneca',\n 'AstraZeneca',\n 'AstraZeneca',\n 'AstraZeneca',\n 'AstraZeneca',\n 'AstraZeneca',\n 'AstraZeneca',\n 'AstraZeneca',\n 'AstraZeneca',\n 'AstraZeneca',\n 'AstraZeneca',\n 'AstraZeneca',\n 'AstraZeneca',\n 'AstraZeneca',\n 'AstraZeneca',\n 'AstraZeneca',\n 'AstraZeneca',\n 'AstraZeneca',\n 'AstraZeneca',\n 'AstraZeneca',\n 'AstraZeneca',\n 'AstraZeneca',\n 'AstraZeneca',\n 'AstraZeneca',\n 'AstraZeneca',\n 'AstraZeneca',\n 'AstraZeneca',\n 'AstraZeneca',\n 'AstraZeneca',\n 'AstraZeneca',\n 'AstraZeneca',\n 'AstraZeneca',\n 'AstraZeneca',\n 'AstraZeneca',\n 'AstraZeneca',\n 'AstraZeneca',\n 'AstraZeneca',\n 'AstraZeneca',\n 'AstraZeneca',\n 'AstraZeneca',\n 'AstraZeneca',\n 'AstraZeneca',\n 'AstraZeneca',\n 'AstraZeneca',\n 'AstraZeneca',\n 'AstraZeneca',\n 'AstraZeneca',\n 'AstraZeneca',\n 'AstraZeneca',\n 'AstraZeneca',\n 'AstraZeneca',\n 'AstraZeneca',\n 'AstraZeneca',\n 'AstraZeneca',\n 'AstraZeneca',\n 'AstraZeneca',\n 'AstraZeneca',\n 'AstraZeneca',\n 'AstraZeneca',\n 'AstraZeneca',\n 'AstraZeneca',\n 'AstraZeneca',\n 'AstraZeneca',\n 'AstraZeneca',\n 'AstraZeneca',\n 'AstraZeneca',\n 'AstraZeneca',\n 'AstraZeneca',\n 'AstraZeneca',\n 'AstraZeneca',\n 'AstraZeneca',\n 'AstraZeneca',\n 'AstraZeneca',\n 'AstraZeneca',\n 'AstraZeneca',\n 'AstraZeneca',\n 'AstraZeneca',\n 'AstraZeneca',\n 'AstraZeneca',\n 'AstraZeneca',\n 'AstraZeneca',\n 'AstraZeneca',\n 'AstraZeneca',\n 'AstraZeneca',\n 'AstraZeneca',\n 'AstraZeneca',\n 'AstraZeneca',\n 'AstraZeneca',\n 'AstraZeneca',\n 'AstraZeneca',\n 'AstraZeneca',\n 'AstraZeneca',\n 'AstraZeneca',\n 'AstraZeneca',\n 'AstraZeneca',\n 'AstraZeneca',\n 'AstraZeneca',\n 'AstraZeneca',\n 'AstraZeneca',\n 'AstraZeneca',\n 'AstraZeneca',\n 'AstraZeneca',\n 'AstraZeneca',\n 'AstraZeneca',\n 'AstraZeneca',\n 'AstraZeneca',\n 'AstraZeneca',\n 'AstraZeneca',\n 'AstraZeneca',\n 'AstraZeneca',\n 'AstraZeneca',\n 'AstraZeneca',\n 'AstraZeneca',\n 'AstraZeneca',\n 'AstraZeneca',\n 'AstraZeneca',\n 'AstraZeneca',\n 'AstraZeneca',\n 'AstraZeneca',\n 'AstraZeneca',\n 'AstraZeneca',\n 'AstraZeneca',\n 'AstraZeneca',\n 'AstraZeneca',\n 'AstraZeneca',\n ...]"
     },
     "execution_count": 8,
     "metadata": {},
     "output_type": "execute_result"
    }
   ],
   "source": [
    "all_hashtags=[]\n",
    "for hashtags in df['hashtags_list']:\n",
    "    for item in list(hashtags):\n",
    "        all_hashtags.append(item)\n",
    "        #print(item)\n",
    "\n",
    "\n",
    "all_hashtags=sorted(all_hashtags)\n",
    "all_hashtags"
   ],
   "metadata": {
    "collapsed": false,
    "pycharm": {
     "name": "#%%\n"
    }
   }
  },
  {
   "cell_type": "code",
   "execution_count": 9,
   "outputs": [
    {
     "data": {
      "text/plain": "[('AstraZeneca', 1695),\n ('COVID19', 1124),\n ('vaccine', 744),\n ('Unite2FightCorona', 678),\n ('VaccinePassports', 640),\n ('FakeNews', 580),\n ('vaccination', 578),\n ('CovidVaccine', 484),\n ('vaccinated', 315),\n ('Pfizer', 291),\n ('COVIDvaccine', 289),\n ('GetVaccinated', 254),\n ('VacunaCOVID19', 241),\n ('vaccines', 208),\n ('Covid19', 151)]"
     },
     "execution_count": 9,
     "metadata": {},
     "output_type": "execute_result"
    }
   ],
   "source": [
    "stats=(Counter(all_hashtags ))\n",
    "stats.most_common(15)"
   ],
   "metadata": {
    "collapsed": false,
    "pycharm": {
     "name": "#%%\n"
    }
   }
  },
  {
   "cell_type": "code",
   "execution_count": 10,
   "outputs": [
    {
     "data": {
      "text/plain": "en     6127\nes     1020\nfr      944\nund     479\nit      409\nde      314\nhi      274\npt      239\nnl      173\nmr       62\npl       48\nel       47\nca       27\nar       20\nro       15\nkn       11\nin       10\nfa       10\nhu        9\ntr        7\nur        7\nfi        7\nda        6\ntl        6\ngu        5\nta        5\ncs        5\nsl        3\nru        3\nja        3\net        3\nbn        2\nko        2\nlv        2\nor        2\nuk        2\neu        1\nml        1\nzh        1\nne        1\nht        1\nte        1\nth        1\nName: lang, dtype: int64"
     },
     "execution_count": 10,
     "metadata": {},
     "output_type": "execute_result"
    }
   ],
   "source": [
    "df['lang'].value_counts()\n",
    "\n"
   ],
   "metadata": {
    "collapsed": false,
    "pycharm": {
     "name": "#%%\n"
    }
   }
  },
  {
   "cell_type": "code",
   "execution_count": 11,
   "outputs": [
    {
     "name": "stdout",
     "output_type": "stream",
     "text": [
      "[datetime.datetime(2021, 4, 16, 23, 40, 39, 776011), datetime.datetime(2021, 4, 15, 23, 40, 39, 776011), datetime.datetime(2021, 4, 14, 23, 40, 39, 776011), datetime.datetime(2021, 4, 13, 23, 40, 39, 776011), datetime.datetime(2021, 4, 12, 23, 40, 39, 776011), datetime.datetime(2021, 4, 11, 23, 40, 39, 776011), datetime.datetime(2021, 4, 10, 23, 40, 39, 776011), datetime.datetime(2021, 4, 9, 23, 40, 39, 776011), datetime.datetime(2021, 4, 8, 23, 40, 39, 776011), datetime.datetime(2021, 4, 7, 23, 40, 39, 776011), datetime.datetime(2021, 4, 6, 23, 40, 39, 776011), datetime.datetime(2021, 4, 5, 23, 40, 39, 776011), datetime.datetime(2021, 4, 4, 23, 40, 39, 776011), datetime.datetime(2021, 4, 3, 23, 40, 39, 776011), datetime.datetime(2021, 4, 2, 23, 40, 39, 776011), datetime.datetime(2021, 4, 1, 23, 40, 39, 776011), datetime.datetime(2021, 3, 31, 23, 40, 39, 776011), datetime.datetime(2021, 3, 30, 23, 40, 39, 776011), datetime.datetime(2021, 3, 29, 23, 40, 39, 776011), datetime.datetime(2021, 3, 28, 23, 40, 39, 776011), datetime.datetime(2021, 3, 27, 23, 40, 39, 776011), datetime.datetime(2021, 3, 26, 23, 40, 39, 776011), datetime.datetime(2021, 3, 25, 23, 40, 39, 776011), datetime.datetime(2021, 3, 24, 23, 40, 39, 776011), datetime.datetime(2021, 3, 23, 23, 40, 39, 776011), datetime.datetime(2021, 3, 22, 23, 40, 39, 776011), datetime.datetime(2021, 3, 21, 23, 40, 39, 776011), datetime.datetime(2021, 3, 20, 23, 40, 39, 776011), datetime.datetime(2021, 3, 19, 23, 40, 39, 776011), datetime.datetime(2021, 3, 18, 23, 40, 39, 776011), datetime.datetime(2021, 3, 17, 23, 40, 39, 776011), datetime.datetime(2021, 3, 16, 23, 40, 39, 776011), datetime.datetime(2021, 3, 15, 23, 40, 39, 776011), datetime.datetime(2021, 3, 14, 23, 40, 39, 776011), datetime.datetime(2021, 3, 13, 23, 40, 39, 776011), datetime.datetime(2021, 3, 12, 23, 40, 39, 776011), datetime.datetime(2021, 3, 11, 23, 40, 39, 776011), datetime.datetime(2021, 3, 10, 23, 40, 39, 776011), datetime.datetime(2021, 3, 9, 23, 40, 39, 776011), datetime.datetime(2021, 3, 8, 23, 40, 39, 776011), datetime.datetime(2021, 3, 7, 23, 40, 39, 776011), datetime.datetime(2021, 3, 6, 23, 40, 39, 776011), datetime.datetime(2021, 3, 5, 23, 40, 39, 776011), datetime.datetime(2021, 3, 4, 23, 40, 39, 776011), datetime.datetime(2021, 3, 3, 23, 40, 39, 776011), datetime.datetime(2021, 3, 2, 23, 40, 39, 776011), datetime.datetime(2021, 3, 1, 23, 40, 39, 776011), datetime.datetime(2021, 2, 28, 23, 40, 39, 776011), datetime.datetime(2021, 2, 27, 23, 40, 39, 776011), datetime.datetime(2021, 2, 26, 23, 40, 39, 776011), datetime.datetime(2021, 2, 25, 23, 40, 39, 776011), datetime.datetime(2021, 2, 24, 23, 40, 39, 776011), datetime.datetime(2021, 2, 23, 23, 40, 39, 776011), datetime.datetime(2021, 2, 22, 23, 40, 39, 776011), datetime.datetime(2021, 2, 21, 23, 40, 39, 776011), datetime.datetime(2021, 2, 20, 23, 40, 39, 776011), datetime.datetime(2021, 2, 19, 23, 40, 39, 776011), datetime.datetime(2021, 2, 18, 23, 40, 39, 776011), datetime.datetime(2021, 2, 17, 23, 40, 39, 776011), datetime.datetime(2021, 2, 16, 23, 40, 39, 776011), datetime.datetime(2021, 2, 15, 23, 40, 39, 776011), datetime.datetime(2021, 2, 14, 23, 40, 39, 776011), datetime.datetime(2021, 2, 13, 23, 40, 39, 776011), datetime.datetime(2021, 2, 12, 23, 40, 39, 776011), datetime.datetime(2021, 2, 11, 23, 40, 39, 776011), datetime.datetime(2021, 2, 10, 23, 40, 39, 776011), datetime.datetime(2021, 2, 9, 23, 40, 39, 776011), datetime.datetime(2021, 2, 8, 23, 40, 39, 776011), datetime.datetime(2021, 2, 7, 23, 40, 39, 776011), datetime.datetime(2021, 2, 6, 23, 40, 39, 776011), datetime.datetime(2021, 2, 5, 23, 40, 39, 776011), datetime.datetime(2021, 2, 4, 23, 40, 39, 776011), datetime.datetime(2021, 2, 3, 23, 40, 39, 776011), datetime.datetime(2021, 2, 2, 23, 40, 39, 776011), datetime.datetime(2021, 2, 1, 23, 40, 39, 776011), datetime.datetime(2021, 1, 31, 23, 40, 39, 776011), datetime.datetime(2021, 1, 30, 23, 40, 39, 776011), datetime.datetime(2021, 1, 29, 23, 40, 39, 776011), datetime.datetime(2021, 1, 28, 23, 40, 39, 776011), datetime.datetime(2021, 1, 27, 23, 40, 39, 776011), datetime.datetime(2021, 1, 26, 23, 40, 39, 776011), datetime.datetime(2021, 1, 25, 23, 40, 39, 776011), datetime.datetime(2021, 1, 24, 23, 40, 39, 776011), datetime.datetime(2021, 1, 23, 23, 40, 39, 776011), datetime.datetime(2021, 1, 22, 23, 40, 39, 776011), datetime.datetime(2021, 1, 21, 23, 40, 39, 776011), datetime.datetime(2021, 1, 20, 23, 40, 39, 776011), datetime.datetime(2021, 1, 19, 23, 40, 39, 776011), datetime.datetime(2021, 1, 18, 23, 40, 39, 776011), datetime.datetime(2021, 1, 17, 23, 40, 39, 776011), datetime.datetime(2021, 1, 16, 23, 40, 39, 776011), datetime.datetime(2021, 1, 15, 23, 40, 39, 776011), datetime.datetime(2021, 1, 14, 23, 40, 39, 776011), datetime.datetime(2021, 1, 13, 23, 40, 39, 776011), datetime.datetime(2021, 1, 12, 23, 40, 39, 776011), datetime.datetime(2021, 1, 11, 23, 40, 39, 776011), datetime.datetime(2021, 1, 10, 23, 40, 39, 776011), datetime.datetime(2021, 1, 9, 23, 40, 39, 776011), datetime.datetime(2021, 1, 8, 23, 40, 39, 776011), datetime.datetime(2021, 1, 7, 23, 40, 39, 776011)]\n"
     ]
    }
   ],
   "source": [
    "a = datetime.datetime.today()\n",
    "numdays = 100\n",
    "date_list = []\n",
    "for x in range (0, numdays):\n",
    "    date_list.append(a - datetime.timedelta(days = x))\n",
    "print (date_list)"
   ],
   "metadata": {
    "collapsed": false,
    "pycharm": {
     "name": "#%%\n"
    }
   }
  },
  {
   "cell_type": "code",
   "execution_count": null,
   "outputs": [],
   "source": [
    "new_data=[]\n",
    "for date in date_list:\n",
    "    for hashtag in list(set(all_hashtags)):\n",
    "        new_row=[0]*5\n",
    "        for index, row in df.iterrows():\n",
    "            #print(row)\n",
    "            if date.day==row[\"created_at\"].day and hashtag in row[\"hashtags_list\"]:\n",
    "                new_row[0]=date.day\n",
    "                new_row[1]=hashtag\n",
    "                new_row[2]+=1\n",
    "                new_row[3]+=row[\"retweet_count\"]\n",
    "                new_row[4]+=row[\"favorite_count\"]\n",
    "                new_row[5]+=row[\"user_followers_count\"]\n",
    "                #df.drop(index)\n",
    "        new_data.append(new_row)\n",
    "\n",
    "\n",
    "new_df=pd.array(new_data)\n",
    "new_df\n",
    " # 0   id                     10315 non-null  int64\n",
    " # 1   created_at             10315 non-null  datetime64[ns, UTC]\n",
    " # 2   text                   10315 non-null  object\n",
    " # 3   geo                    13 non-null     object\n",
    " # 4   coordinates            13 non-null     object\n",
    " # 5   place_name             176 non-null    object\n",
    " # 6   place_full_name        176 non-null    object\n",
    " # 7   place_country          176 non-null    object\n",
    " # 8   place_coordinates      176 non-null    object\n",
    " # 9   lang                   10315 non-null  object\n",
    " # 10  retweet_count          10315 non-null  int64\n",
    " # 11  favorite_count         10315 non-null  int64\n",
    " # 12  user_id                10315 non-null  int64\n",
    " # 13  user_name              10315 non-null  object\n",
    " # 14  user_description       10315 non-null  object\n",
    " # 15  user_location          10315 non-null  object\n",
    " # 16  user_created_at        10315 non-null  datetime64[ns, UTC]\n",
    " # 17  user_followers_count   10315 non-null  int64\n",
    " # 18  user_friends_count     10315 non-null  int64\n",
    " # 19  user_favourites_count  10315 non-null  int64\n",
    " # 20  user_statuses_count    10315 non-null  int64\n",
    " # 21  hashtags_list          10315 non-null  object"
   ],
   "metadata": {
    "collapsed": false,
    "pycharm": {
     "name": "#%%\n",
     "is_executing": true
    }
   }
  }
 ],
 "metadata": {
  "kernelspec": {
   "display_name": "Python 3",
   "language": "python",
   "name": "python3"
  },
  "language_info": {
   "codemirror_mode": {
    "name": "ipython",
    "version": 2
   },
   "file_extension": ".py",
   "mimetype": "text/x-python",
   "name": "python",
   "nbconvert_exporter": "python",
   "pygments_lexer": "ipython2",
   "version": "2.7.6"
  }
 },
 "nbformat": 4,
 "nbformat_minor": 0
}