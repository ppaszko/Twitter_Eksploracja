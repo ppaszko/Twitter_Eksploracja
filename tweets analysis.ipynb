{
 "cells": [
  {
   "cell_type": "code",
   "execution_count": 1,
   "outputs": [],
   "source": [
    "import pandas as pd\n",
    "from collections import Counter"
   ],
   "metadata": {
    "collapsed": false,
    "pycharm": {
     "name": "#%%\n"
    }
   }
  },
  {
   "cell_type": "code",
   "execution_count": 2,
   "outputs": [],
   "source": [
    "df=pd.read_json('parsed_tweets.json')\n"
   ],
   "metadata": {
    "collapsed": false,
    "pycharm": {
     "name": "#%%\n"
    }
   }
  },
  {
   "cell_type": "code",
   "execution_count": 3,
   "outputs": [
    {
     "data": {
      "text/plain": "                        id                created_at  \\\n0      1375534620368855047 2021-03-26 19:46:24+00:00   \n1      1375534633324998661 2021-03-26 19:46:27+00:00   \n2      1375534633266389001 2021-03-26 19:46:27+00:00   \n3      1375534640816082944 2021-03-26 19:46:29+00:00   \n4      1375534642393137160 2021-03-26 19:46:29+00:00   \n...                    ...                       ...   \n18752  1378705190732320770 2021-04-04 13:45:07+00:00   \n18753  1378705216745439239 2021-04-04 13:45:13+00:00   \n18754  1378705228199915525 2021-04-04 13:45:16+00:00   \n18755  1378705239604346881 2021-04-04 13:45:18+00:00   \n18756  1378705241496035331 2021-04-04 13:45:19+00:00   \n\n                                                    text   geo coordinates  \\\n0      RT @BoliGrafica: #Vacunacion #Bolivia #COVID19...  None        None   \n1      RT @fredriclean: @EmmanuelMacron\\n Monsieur le...  None        None   \n2      In a prophetic line in this video, he talks ab...  None        None   \n3      RT @GiuliaCortese1: C'è una possibilità su 623...  None        None   \n4      @GovPritzker Excellent! Keep up the phenomenal...  None        None   \n...                                                  ...   ...         ...   \n18752  RT @nicolemartintv: FYI #HamOnt. The Wellingto...   NaN         NaN   \n18753  Un #Antivax c'est pire que des  morpions et de...   NaN         NaN   \n18754  #Jaipur | According to the information, now on...   NaN         NaN   \n18755  RT @zaibatsu: Real-world data shows vaccines k...   NaN         NaN   \n18756  RT @santeo_msp: #Covid-19 : pour la première f...   NaN         NaN   \n\n      place filter_level lang  quote_count  reply_count  ...  \\\n0      None          low   es          0.0          0.0  ...   \n1      None          low   fr          0.0          0.0  ...   \n2      None          low   en          0.0          0.0  ...   \n3      None          low   it          0.0          0.0  ...   \n4      None          low   en          0.0          0.0  ...   \n...     ...          ...  ...          ...          ...  ...   \n18752   NaN          NaN   en          NaN          NaN  ...   \n18753   NaN          NaN   fr          NaN          NaN  ...   \n18754   NaN          NaN   en          NaN          NaN  ...   \n18755   NaN          NaN   en          NaN          NaN  ...   \n18756   NaN          NaN   fr          NaN          NaN  ...   \n\n       user_followers_count  user_friends_count  user_favourites_count  \\\n0                       559                 541                   1052   \n1                         0                  25                      4   \n2                       725                 834                  19197   \n3                       226                 778                 109064   \n4                        11                  73                   4997   \n...                     ...                 ...                    ...   \n18752                    55                 295                    324   \n18753                   248                1166                   9154   \n18754                  7056                 226                    168   \n18755                  2453                1084                   2804   \n18756                    35                  98                      8   \n\n      user_statuses_count                   hashtags_list place_name  \\\n0                    1207  [Vacunacion, Bolivia, COVID19]        NaN   \n1                      15                       [vaccins]        NaN   \n2                    4737                              []        NaN   \n3                    8128                       [vaccino]        NaN   \n4                    4624                  [CovidVaccine]        NaN   \n...                   ...                             ...        ...   \n18752                 657          [HamOnt, COVIDvaccine]       None   \n18753               16672                       [Antivax]       None   \n18754               80100             [Jaipur, Rajasthan]       None   \n18755              136657                 [GetVaccinated]       None   \n18756                  19                         [Covid]       None   \n\n       place_full_name  place_country  place_coordinates  \\\n0                  NaN            NaN                NaN   \n1                  NaN            NaN                NaN   \n2                  NaN            NaN                NaN   \n3                  NaN            NaN                NaN   \n4                  NaN            NaN                NaN   \n...                ...            ...                ...   \n18752             None           None               None   \n18753             None           None               None   \n18754             None           None               None   \n18755             None           None               None   \n18756             None           None               None   \n\n                 user_location  \n0                          NaN  \n1                          NaN  \n2                          NaN  \n3                          NaN  \n4                          NaN  \n...                        ...  \n18752            wherever i am  \n18753  France (Auvergne - Idf)  \n18754            Jaipur, India  \n18755    Western Massachusetts  \n18756            Paris, France  \n\n[18757 rows x 26 columns]",
      "text/html": "<div>\n<style scoped>\n    .dataframe tbody tr th:only-of-type {\n        vertical-align: middle;\n    }\n\n    .dataframe tbody tr th {\n        vertical-align: top;\n    }\n\n    .dataframe thead th {\n        text-align: right;\n    }\n</style>\n<table border=\"1\" class=\"dataframe\">\n  <thead>\n    <tr style=\"text-align: right;\">\n      <th></th>\n      <th>id</th>\n      <th>created_at</th>\n      <th>text</th>\n      <th>geo</th>\n      <th>coordinates</th>\n      <th>place</th>\n      <th>filter_level</th>\n      <th>lang</th>\n      <th>quote_count</th>\n      <th>reply_count</th>\n      <th>...</th>\n      <th>user_followers_count</th>\n      <th>user_friends_count</th>\n      <th>user_favourites_count</th>\n      <th>user_statuses_count</th>\n      <th>hashtags_list</th>\n      <th>place_name</th>\n      <th>place_full_name</th>\n      <th>place_country</th>\n      <th>place_coordinates</th>\n      <th>user_location</th>\n    </tr>\n  </thead>\n  <tbody>\n    <tr>\n      <th>0</th>\n      <td>1375534620368855047</td>\n      <td>2021-03-26 19:46:24+00:00</td>\n      <td>RT @BoliGrafica: #Vacunacion #Bolivia #COVID19...</td>\n      <td>None</td>\n      <td>None</td>\n      <td>None</td>\n      <td>low</td>\n      <td>es</td>\n      <td>0.0</td>\n      <td>0.0</td>\n      <td>...</td>\n      <td>559</td>\n      <td>541</td>\n      <td>1052</td>\n      <td>1207</td>\n      <td>[Vacunacion, Bolivia, COVID19]</td>\n      <td>NaN</td>\n      <td>NaN</td>\n      <td>NaN</td>\n      <td>NaN</td>\n      <td>NaN</td>\n    </tr>\n    <tr>\n      <th>1</th>\n      <td>1375534633324998661</td>\n      <td>2021-03-26 19:46:27+00:00</td>\n      <td>RT @fredriclean: @EmmanuelMacron\\n Monsieur le...</td>\n      <td>None</td>\n      <td>None</td>\n      <td>None</td>\n      <td>low</td>\n      <td>fr</td>\n      <td>0.0</td>\n      <td>0.0</td>\n      <td>...</td>\n      <td>0</td>\n      <td>25</td>\n      <td>4</td>\n      <td>15</td>\n      <td>[vaccins]</td>\n      <td>NaN</td>\n      <td>NaN</td>\n      <td>NaN</td>\n      <td>NaN</td>\n      <td>NaN</td>\n    </tr>\n    <tr>\n      <th>2</th>\n      <td>1375534633266389001</td>\n      <td>2021-03-26 19:46:27+00:00</td>\n      <td>In a prophetic line in this video, he talks ab...</td>\n      <td>None</td>\n      <td>None</td>\n      <td>None</td>\n      <td>low</td>\n      <td>en</td>\n      <td>0.0</td>\n      <td>0.0</td>\n      <td>...</td>\n      <td>725</td>\n      <td>834</td>\n      <td>19197</td>\n      <td>4737</td>\n      <td>[]</td>\n      <td>NaN</td>\n      <td>NaN</td>\n      <td>NaN</td>\n      <td>NaN</td>\n      <td>NaN</td>\n    </tr>\n    <tr>\n      <th>3</th>\n      <td>1375534640816082944</td>\n      <td>2021-03-26 19:46:29+00:00</td>\n      <td>RT @GiuliaCortese1: C'è una possibilità su 623...</td>\n      <td>None</td>\n      <td>None</td>\n      <td>None</td>\n      <td>low</td>\n      <td>it</td>\n      <td>0.0</td>\n      <td>0.0</td>\n      <td>...</td>\n      <td>226</td>\n      <td>778</td>\n      <td>109064</td>\n      <td>8128</td>\n      <td>[vaccino]</td>\n      <td>NaN</td>\n      <td>NaN</td>\n      <td>NaN</td>\n      <td>NaN</td>\n      <td>NaN</td>\n    </tr>\n    <tr>\n      <th>4</th>\n      <td>1375534642393137160</td>\n      <td>2021-03-26 19:46:29+00:00</td>\n      <td>@GovPritzker Excellent! Keep up the phenomenal...</td>\n      <td>None</td>\n      <td>None</td>\n      <td>None</td>\n      <td>low</td>\n      <td>en</td>\n      <td>0.0</td>\n      <td>0.0</td>\n      <td>...</td>\n      <td>11</td>\n      <td>73</td>\n      <td>4997</td>\n      <td>4624</td>\n      <td>[CovidVaccine]</td>\n      <td>NaN</td>\n      <td>NaN</td>\n      <td>NaN</td>\n      <td>NaN</td>\n      <td>NaN</td>\n    </tr>\n    <tr>\n      <th>...</th>\n      <td>...</td>\n      <td>...</td>\n      <td>...</td>\n      <td>...</td>\n      <td>...</td>\n      <td>...</td>\n      <td>...</td>\n      <td>...</td>\n      <td>...</td>\n      <td>...</td>\n      <td>...</td>\n      <td>...</td>\n      <td>...</td>\n      <td>...</td>\n      <td>...</td>\n      <td>...</td>\n      <td>...</td>\n      <td>...</td>\n      <td>...</td>\n      <td>...</td>\n      <td>...</td>\n    </tr>\n    <tr>\n      <th>18752</th>\n      <td>1378705190732320770</td>\n      <td>2021-04-04 13:45:07+00:00</td>\n      <td>RT @nicolemartintv: FYI #HamOnt. The Wellingto...</td>\n      <td>NaN</td>\n      <td>NaN</td>\n      <td>NaN</td>\n      <td>NaN</td>\n      <td>en</td>\n      <td>NaN</td>\n      <td>NaN</td>\n      <td>...</td>\n      <td>55</td>\n      <td>295</td>\n      <td>324</td>\n      <td>657</td>\n      <td>[HamOnt, COVIDvaccine]</td>\n      <td>None</td>\n      <td>None</td>\n      <td>None</td>\n      <td>None</td>\n      <td>wherever i am</td>\n    </tr>\n    <tr>\n      <th>18753</th>\n      <td>1378705216745439239</td>\n      <td>2021-04-04 13:45:13+00:00</td>\n      <td>Un #Antivax c'est pire que des  morpions et de...</td>\n      <td>NaN</td>\n      <td>NaN</td>\n      <td>NaN</td>\n      <td>NaN</td>\n      <td>fr</td>\n      <td>NaN</td>\n      <td>NaN</td>\n      <td>...</td>\n      <td>248</td>\n      <td>1166</td>\n      <td>9154</td>\n      <td>16672</td>\n      <td>[Antivax]</td>\n      <td>None</td>\n      <td>None</td>\n      <td>None</td>\n      <td>None</td>\n      <td>France (Auvergne - Idf)</td>\n    </tr>\n    <tr>\n      <th>18754</th>\n      <td>1378705228199915525</td>\n      <td>2021-04-04 13:45:16+00:00</td>\n      <td>#Jaipur | According to the information, now on...</td>\n      <td>NaN</td>\n      <td>NaN</td>\n      <td>NaN</td>\n      <td>NaN</td>\n      <td>en</td>\n      <td>NaN</td>\n      <td>NaN</td>\n      <td>...</td>\n      <td>7056</td>\n      <td>226</td>\n      <td>168</td>\n      <td>80100</td>\n      <td>[Jaipur, Rajasthan]</td>\n      <td>None</td>\n      <td>None</td>\n      <td>None</td>\n      <td>None</td>\n      <td>Jaipur, India</td>\n    </tr>\n    <tr>\n      <th>18755</th>\n      <td>1378705239604346881</td>\n      <td>2021-04-04 13:45:18+00:00</td>\n      <td>RT @zaibatsu: Real-world data shows vaccines k...</td>\n      <td>NaN</td>\n      <td>NaN</td>\n      <td>NaN</td>\n      <td>NaN</td>\n      <td>en</td>\n      <td>NaN</td>\n      <td>NaN</td>\n      <td>...</td>\n      <td>2453</td>\n      <td>1084</td>\n      <td>2804</td>\n      <td>136657</td>\n      <td>[GetVaccinated]</td>\n      <td>None</td>\n      <td>None</td>\n      <td>None</td>\n      <td>None</td>\n      <td>Western Massachusetts</td>\n    </tr>\n    <tr>\n      <th>18756</th>\n      <td>1378705241496035331</td>\n      <td>2021-04-04 13:45:19+00:00</td>\n      <td>RT @santeo_msp: #Covid-19 : pour la première f...</td>\n      <td>NaN</td>\n      <td>NaN</td>\n      <td>NaN</td>\n      <td>NaN</td>\n      <td>fr</td>\n      <td>NaN</td>\n      <td>NaN</td>\n      <td>...</td>\n      <td>35</td>\n      <td>98</td>\n      <td>8</td>\n      <td>19</td>\n      <td>[Covid]</td>\n      <td>None</td>\n      <td>None</td>\n      <td>None</td>\n      <td>None</td>\n      <td>Paris, France</td>\n    </tr>\n  </tbody>\n</table>\n<p>18757 rows × 26 columns</p>\n</div>"
     },
     "execution_count": 3,
     "metadata": {},
     "output_type": "execute_result"
    }
   ],
   "source": [
    "df"
   ],
   "metadata": {
    "collapsed": false,
    "pycharm": {
     "name": "#%%\n"
    }
   }
  },
  {
   "cell_type": "code",
   "execution_count": 4,
   "outputs": [
    {
     "data": {
      "text/plain": "Index(['id', 'created_at', 'text', 'geo', 'coordinates', 'place',\n       'filter_level', 'lang', 'quote_count', 'reply_count', 'retweet_count',\n       'favorite_count', 'user_id', 'user_name', 'user_description',\n       'user_created_at', 'user_followers_count', 'user_friends_count',\n       'user_favourites_count', 'user_statuses_count', 'hashtags_list',\n       'place_name', 'place_full_name', 'place_country', 'place_coordinates',\n       'user_location'],\n      dtype='object')"
     },
     "execution_count": 4,
     "metadata": {},
     "output_type": "execute_result"
    }
   ],
   "source": [
    "df.columns"
   ],
   "metadata": {
    "collapsed": false,
    "pycharm": {
     "name": "#%%\n"
    }
   }
  },
  {
   "cell_type": "code",
   "execution_count": 5,
   "outputs": [
    {
     "data": {
      "text/plain": "id                       18757\ncreated_at               18757\ntext                     18757\ngeo                         12\ncoordinates                 12\nplace                       99\nfilter_level              4725\nlang                     18757\nquote_count               4725\nreply_count               4725\nretweet_count            18757\nfavorite_count           18757\nuser_id                  18757\nuser_name                18757\nuser_description         16728\nuser_created_at          18757\nuser_followers_count     18757\nuser_friends_count       18757\nuser_favourites_count    18757\nuser_statuses_count      18757\nhashtags_list            18757\nplace_name                 415\nplace_full_name            415\nplace_country              415\nplace_coordinates          415\nuser_location            13985\ndtype: int64"
     },
     "execution_count": 5,
     "metadata": {},
     "output_type": "execute_result"
    }
   ],
   "source": [
    "df.count()\n"
   ],
   "metadata": {
    "collapsed": false,
    "pycharm": {
     "name": "#%%\n"
    }
   }
  },
  {
   "cell_type": "code",
   "execution_count": 6,
   "outputs": [],
   "source": [
    "all_hashtags=[]\n",
    "for hashtags in df['hashtags_list']:\n",
    "    for item in list(hashtags):\n",
    "        all_hashtags.append(item)\n",
    "        #print(item)\n",
    "\n",
    "\n",
    "#all_hashtags=sorted(all_hashtags)\n",
    "#all_hashtags"
   ],
   "metadata": {
    "collapsed": false,
    "pycharm": {
     "name": "#%%\n"
    }
   }
  },
  {
   "cell_type": "code",
   "execution_count": 7,
   "outputs": [
    {
     "data": {
      "text/plain": "[('COVID19', 1923),\n ('AstraZeneca', 1875),\n ('VaccinePassports', 1521),\n ('COVIDvaccine', 1147),\n ('vaccine', 963),\n ('vaccination', 811),\n ('Pfizer', 723),\n ('vaccinated', 647),\n ('coronavirus', 538),\n ('IndiaFightsCorona', 474),\n ('CovidVaccine', 469),\n ('vaccines', 430),\n ('LargestVaccineDrive', 395),\n ('GetVaccinated', 386),\n ('VacunaCOVID19', 337)]"
     },
     "execution_count": 7,
     "metadata": {},
     "output_type": "execute_result"
    }
   ],
   "source": [
    "stats=(Counter(all_hashtags ))\n",
    "stats.most_common(15)"
   ],
   "metadata": {
    "collapsed": false,
    "pycharm": {
     "name": "#%%\n"
    }
   }
  },
  {
   "cell_type": "code",
   "execution_count": 8,
   "outputs": [
    {
     "data": {
      "text/plain": "en     10849\nfr      1637\nes      1257\nund     1024\nhi       957\nde       780\npt       614\nit       593\nnl       277\nmr       114\npl        86\ntr        77\nel        70\ngu        56\nta        49\nin        44\nca        38\nja        31\nur        20\npa        20\ncs        17\nru        14\nar        13\net        12\nor        11\nro        11\ntl        10\nda        10\ndv         8\nte         8\nfi         8\nkn         7\nuk         4\nfa         3\nbn         3\nth         3\nsv         3\nbg         2\nsr         2\nml         2\nne         2\nko         2\neu         1\nsl         1\nvi         1\nhu         1\nis         1\nlv         1\nht         1\niw         1\nzh         1\nName: lang, dtype: int64"
     },
     "execution_count": 8,
     "metadata": {},
     "output_type": "execute_result"
    }
   ],
   "source": [
    "df['lang'].value_counts()\n"
   ],
   "metadata": {
    "collapsed": false,
    "pycharm": {
     "name": "#%%\n"
    }
   }
  }
 ],
 "metadata": {
  "kernelspec": {
   "display_name": "Python 3",
   "language": "python",
   "name": "python3"
  },
  "language_info": {
   "codemirror_mode": {
    "name": "ipython",
    "version": 2
   },
   "file_extension": ".py",
   "mimetype": "text/x-python",
   "name": "python",
   "nbconvert_exporter": "python",
   "pygments_lexer": "ipython2",
   "version": "2.7.6"
  }
 },
 "nbformat": 4,
 "nbformat_minor": 0
}